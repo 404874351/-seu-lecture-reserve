{
 "cells": [
  {
   "cell_type": "code",
   "execution_count": null,
   "metadata": {},
   "outputs": [],
   "source": [
    "https://ehall.seu.edu.cn/gsapp/sys/yddjzxxtjappseu/*default/index.do#/hdxq?WID=c82b2c4d7d8743f9b16e16867a221daf\n",
    "https://ehall.seu.edu.cn/gsapp/sys/yddjzxxtjappseu/modules/hdyy/queryActivityList.do\n"
   ]
  },
  {
   "cell_type": "code",
   "execution_count": 9,
   "metadata": {},
   "outputs": [],
   "source": [
    "cookies_raw=\"route=de1353bd2eecd92e44c51ddb2c26661d; route=a582dc4be54fe74b7d8abd1ec14e5b0b; EMAP_LANG=zh; THEME=indigo; GS_SESSIONID=d90b0341b8d3ba3c9a8658fd0e4489c9; _WEU=WwnVMD*QRwBFn11UaddaHpFoWQgpyNAzkAV0nQwhR1Unm8YJTqb3E7F1OtPI_av16k8zNBJZ5NalzHTA6iem8Sgvszrv3KFOpRZNdRbWWEWuyMaR*AYUAK1a0C7tggHcyYYyy4J8Hy9If23NbhppClZRfMrhgFmz7O1P6yXGYhYSpkLH8DKqK_SBIqvgrEaK6EC44DNHRPQkf8Fg9gWdB09ohS_F9RaKRSKDIAM1X7uPDRqZheOpoMvShnEhcNFG9GoYxTU1efLaElLV7r49xJbG7RtEoP27nDYG952LfAu2CtlB4wQF9yVKT3LyQH26XiNHHgej58PaiTKUB1m6dA*Jb63y2lu6; amp.locale=zh_CN; JSESSIONID=Sju0CDkhHi4agNsG05yi90A1B-Kv1ciR-FE9N2zHIFAe5c9sArWI!49887105\"\n",
    "cookies={}\n",
    "for line in cookies_raw.split(\"; \"):\n",
    "    key,value=line.split(\"=\",1)\n",
    "    cookies[key]=value"
   ]
  },
  {
   "cell_type": "code",
   "execution_count": 7,
   "metadata": {},
   "outputs": [
    {
     "data": {
      "text/plain": [
       "{'_WEU': 'Lk9OsF1Zaze*DJkuo2tHZwv_kOARaMWkRx5gxXdgI7bTXSz_cc_y0Ph8o1h*HzmaqzdCOBxZbFSKi9wFJ4G8uciT9WZViku91eRqRZ7vYWa5DrBIveD5h2REsAynixvjK66ICoReCC46AP4yx*JoJAQfRVQIcDgy5_94ebvHfhB1qvH7lKLT59FMGvIS5QO90fBlkPJrVtIA8UbeIDC*5cw24D7I*a1z9ChSNCEID2oRKaPWCJm2SFwwlXJWe9brfuIhOg8MyXTIzmSFguetlAzQrMypfZbojbPetLp40pQ1Y1Nntw9fkG4AovY*8Ha7yc2_99dzbi0b20FrshBT3AuSNIloVwvG',\n",
       " 'path': '/gsapp/'}"
      ]
     },
     "execution_count": 7,
     "metadata": {},
     "output_type": "execute_result"
    }
   ],
   "source": [
    "cookies"
   ]
  },
  {
   "cell_type": "markdown",
   "metadata": {},
   "source": [
    "# 获取所有活动列表"
   ]
  },
  {
   "cell_type": "code",
   "execution_count": 10,
   "metadata": {},
   "outputs": [
    {
     "name": "stdout",
     "output_type": "stream",
     "text": [
      "{\"msg\":\"\",\"datas\":{\"hdrsList\":[],\"xsxxList\":[{\"WID\":\"ee93aa48774d44f29bf51cdf2894c80b\",\"HDZRS\":\"600\"},{\"WID\":\"c82b2c4d7d8743f9b16e16867a221daf\",\"HDZRS\":\"200\"},{\"WID\":\"a044a24b2bb04931aa9448ef81d312d0\",\"HDZRS\":\"320\"},{\"WID\":\"c498986729f44db8b74af7b978e1784d\",\"HDZRS\":\"280\"},{\"WID\":\"39f46934d2374a8890583d989600b55b\",\"HDZRS\":\"650\"}],\"xtdqsj\":\"2024-10-22 20:26:05\",\"count\":\"0\",\"wycspzList\":[{\"CJSJ\":\"Apr 27, 2020 10:33:22 AM\",\"WID\":\"d10f7ddfa24641d8ac2c5f150c6956c1\",\"WYCS\":2,\"CJR\":\"应用管理员\",\"JZYYTS\":60}],\"hdlbList\":[{\"HDJSSJ\":\"2024-10-25 17:30:00\",\"ZJR\":\"盛斌\",\"JZMC\":\"【线上】【自信中国】构建更高水平的开放型经济新体制\",\"JZSJ\":\"2024-10-25 15:30:00\",\"JZXL\":\"10789c9265d04529b730dcf476095606\",\"SZXQ\":\"4\",\"YYJSSJ\":\"2024-10-25 00:00:00\",\"JZHB\":\"3rrc2noj2gkn2ag920tl2bir3jsn234l881\",\"HDZRS\":\"320\",\"SFYXQXYY\":1,\"JZDD\":\"苏州校区中大院报告厅\",\"WID\":\"a044a24b2bb04931aa9448ef81d312d0\",\"FBZT\":\"1\",\"YYKSSJ\":\"2024-10-24 19:00:00\",\"JZXL_DISPLAY\":\"人文与科学素养系列讲座_其他\",\"SFKSYY\":0,\"ZJRJS\":\"盛斌，南开大学“杰出教授”、博士生导师；现任南开大学党委常委、副校长，经济学院院长(兼)；教育部“长江学者”特聘教授、国家万人计划哲学社会科学领军人才、文化名家暨“四个一批”人才、国家百千万人才、国家有突出贡献中青年专家、国务院政府特殊津贴专家；中国世界经济学会副会长、中国美国经济学会副会长；主要研究领域为世界经济、国际贸易、国际政治经济学等。\",\"ZBF\":\"苏州校区研究生会\"},{\"HDJSSJ\":\"2024-10-25 17:30:00\",\"ZJR\":\"盛斌\",\"JZMC\":\"【线下】【自信中国】构建更高水平的开放型经济新体制\",\"JZSJ\":\"2024-10-25 15:30:00\",\"JZXL\":\"10789c9265d04529b730dcf476095606\",\"SZXQ\":\"4\",\"YYJSSJ\":\"2024-10-25 00:00:00\",\"JZHB\":\"3jnc2fcu24gt2rh639eq26ff2tuh2quu21\",\"HDZRS\":\"280\",\"SFYXQXYY\":1,\"JZDD\":\"苏州校区中大院报告厅\",\"WID\":\"c498986729f44db8b74af7b978e1784d\",\"FBZT\":\"1\",\"YYKSSJ\":\"2024-10-24 19:00:00\",\"JZXL_DISPLAY\":\"人文与科学素养系列讲座_其他\",\"SFKSYY\":0,\"ZJRJS\":\"盛斌，南开大学“杰出教授”、博士生导师;现任南开大学党委常委、副校长，经济学院院长(兼)；教育部“长江学者”特聘教授、国家万人计划哲学社会科学领军人才、文化名家暨“四个一批”人才、国家百千万人才、国家有突出贡献中青年专家、国务院政府特殊津贴专家；中国世界经济学会副会长、中国美国经济学会副会长;主要研究领域为世界经济、国际贸易、国际政治经济学等。\\n\",\"ZBF\":\"苏州校区研究生会\"},{\"HDJSSJ\":\"2024-10-25 15:30:00\",\"ZJR\":\"吕长虹\",\"JZMC\":\"【线下】【前沿科技】数学归纳法与算法设计\",\"JZSJ\":\"2024-10-25 14:00:00\",\"JZXL\":\"10789c9265d04529b730dcf476095606\",\"SZXQ\":\"2\",\"YYJSSJ\":\"2024-10-25 00:00:00\",\"JZHB\":\"3k503ip82hbi3t4t2va12oih3v1g3k8e401\",\"HDZRS\":\"650\",\"SFYXQXYY\":1,\"JZDD\":\"九龙湖校区润良报告厅\",\"WID\":\"39f46934d2374a8890583d989600b55b\",\"FBZT\":\"-1\",\"YYKSSJ\":\"2024-10-24 19:00:00\",\"JZXL_DISPLAY\":\"人文与科学素养系列讲座_其他\",\"SFKSYY\":0,\"ZJRJS\":\"吕长虹教授，现任华东师范大学数学科学学院院长，数学与工程应用教育部重点实验室主任，国家高层次人才计划入选者。他主要从事图论与离散优化的理论和应用研究，2020年获得萧树铁应用数学奖和上海市科技进步特等奖，2021年获 CSIAM 首届数学成果落地应用奖，2022年获华为优秀技术成果奖。\",\"ZBF\":\"数学学院研究生会\"},{\"HDJSSJ\":\"2024-10-24 20:30:00\",\"ZJR\":\"于立深\",\"JZMC\":\"【线上】【法律】后工业社会到达后的人生与法律问题\",\"JZSJ\":\"2024-10-24 18:30:00\",\"JZXL\":\"e482db86363f4a6dabb5883472368e0b\",\"SZXQ\":\"2\",\"YYJSSJ\":\"2024-10-24 00:00:00\",\"JZHB\":\"2sj42qes2cm720cq25gr3rhf2qkm22is411\",\"HDZRS\":\"200\",\"SFYXQXYY\":1,\"JZDD\":\"九龙湖校区润良报告厅\",\"WID\":\"c82b2c4d7d8743f9b16e16867a221daf\",\"FBZT\":\"1\",\"YYKSSJ\":\"2024-10-23 19:00:00\",\"JZXL_DISPLAY\":\"人文与科学素养系列讲座_法律\",\"SFKSYY\":0,\"ZJRJS\":\"于立深，法学博士，东南大学法学院教授、博士生导师，东南大学城市治理与区域法治发展研究中心主任，原东南大学法学院学术委员会主任。2014.7-2015.7，美国埃默里大学法学院(Law School of Emory University，亚特兰大市)访问学者。\\n兼任江苏省工程法学研究会会长、江苏省法学会首席法律顾问、中国行政法学研究会理事、中国法学会行政审判理论研究会理事、江苏省第二届法官、检察官遴选委员会非常任委员、最高人民法院第三巡回法庭诉讼服务志愿专家、南京市中级人民法院特邀咨询专家、江苏省地质矿产勘查局政策法务工作专家等。\\n已在《法学研究》《中国法学》《中外法学》《法学家》《法商研究》《中国行政管理》《人民日报》《读书》等刊物上发表论文100余篇。主持国家社会科学基金项目2项、司法部、教育部、中国法学会、江苏省等省部级项目5项。\",\"ZBF\":\"交通学院研究生会\"},{\"HDJSSJ\":\"2024-10-24 20:30:00\",\"ZJR\":\"于立深\",\"JZMC\":\"【线下】【法律】后工业社会到达后的人生与法律问题\",\"JZSJ\":\"2024-10-24 18:30:00\",\"JZXL\":\"e482db86363f4a6dabb5883472368e0b\",\"SZXQ\":\"2\",\"YYJSSJ\":\"2024-10-24 00:00:00\",\"JZHB\":\"3ffk36tt28on2439202b3cou3hsj2d3q801\",\"HDZRS\":\"600\",\"SFYXQXYY\":1,\"JZDD\":\"九龙湖校区润良报告厅\",\"WID\":\"ee93aa48774d44f29bf51cdf2894c80b\",\"FBZT\":\"1\",\"YYKSSJ\":\"2024-10-23 19:00:00\",\"JZXL_DISPLAY\":\"人文与科学素养系列讲座_法律\",\"SFKSYY\":0,\"ZJRJS\":\"于立深，法学博士，东南大学法学院教授、博士生导师，东南大学城市治理与区域法治发展研究中心主任，原东南大学法学院学术委员会主任。2014.7-2015.7，美国埃默里大学法学院(Law School of Emory University，亚特兰大市)访问学者。\\n兼任江苏省工程法学研究会会长、江苏省法学会首席法律顾问、中国行政法学研究会理事、中国法学会行政审判理论研究会理事、江苏省第二届法官、检察官遴选委员会非常任委员、最高人民法院第三巡回法庭诉讼服务志愿专家、南京市中级人民法院特邀咨询专家、江苏省地质矿产勘查局政策法务工作专家等。\\n已在《法学研究》《中国法学》《中外法学》《法学家》《法商研究》《中国行政管理》《人民日报》《读书》等刊物上发表论文100余篇。主持国家社会科学基金项目2项、司法部、教育部、中国法学会、江苏省等省部级项目5项。\",\"ZBF\":\"交通学院研究生会\"}],\"content\":\"选听研究生人文与科学素养系列讲座：研究生在中期考核前应至少选听8次系列讲座。根据最新研究生手册规定，21-24级研究生的必听类讲座包括心理类，法律类和艺术类；20级及以前研究生的必听类讲座包括心理类与法律类。必听类讲座可替代其他类型的讲座，其他类型讲座不能替代必听类讲座。港澳台研究生、国际留学研究生在中期考核前至少选听3次系列讲座。明令禁止同一时间段预约并参加多场讲座。预约并参加多场讲座只计算一场有效讲座，其余讲座作违约处理。以上讲座场次经考核合格后计1学分。\"},\"debugException\":null,\"code\":0}\n"
     ]
    }
   ],
   "source": [
    "import requests\n",
    "url='https://ehall.seu.edu.cn/gsapp/sys/yddjzxxtjappseu/modules/hdyy/queryActivityList.do'\n",
    "headers={\n",
    "    'Accept': '*/*',\n",
    "    'Accept-Encoding': 'gzip, deflate',\n",
    "    'Accept-Language': 'zh-CN,zh;q=0.9,zh-TW;q=0.8,en-US;q=0.7,en;q=0.6',\n",
    "    'Connection': 'keep-alive',\n",
    "    'Content-Length': '0',\n",
    "    'Host': 'ehall.seu.edu.cn',\n",
    "    'Origin': 'http://ehall.seu.edu.cn',\n",
    "    'Referer': 'http://ehall.seu.edu.cn/gsapp/sys/yddjzxxtjappseu/*default/index.do',\n",
    "    'User-Agent': 'Mozilla/5.0 (iPhone; CPU iPhone OS 13_2_3 like Mac OS X) AppleWebKit/605.1.15 (KHTML, like Gecko) Version/13.0.3 Mobile/15E148 Safari/604.1',\n",
    "    'X-Requested-With': 'XMLHttpRequest',\n",
    "    # 每次操作前修改cookie\n",
    "    'Cookie': cookies_raw\n",
    "}\n",
    "r=requests.post(url,headers=headers)\n",
    "print(r.text)"
   ]
  },
  {
   "cell_type": "code",
   "execution_count": 11,
   "metadata": {},
   "outputs": [
    {
     "data": {
      "text/plain": [
       "[{'HDJSSJ': '2024-10-25 17:30:00',\n",
       "  'ZJR': '盛斌',\n",
       "  'JZMC': '【线上】【自信中国】构建更高水平的开放型经济新体制',\n",
       "  'JZSJ': '2024-10-25 15:30:00',\n",
       "  'JZXL': '10789c9265d04529b730dcf476095606',\n",
       "  'SZXQ': '4',\n",
       "  'YYJSSJ': '2024-10-25 00:00:00',\n",
       "  'JZHB': '3rrc2noj2gkn2ag920tl2bir3jsn234l881',\n",
       "  'HDZRS': '320',\n",
       "  'SFYXQXYY': 1,\n",
       "  'JZDD': '苏州校区中大院报告厅',\n",
       "  'WID': 'a044a24b2bb04931aa9448ef81d312d0',\n",
       "  'FBZT': '1',\n",
       "  'YYKSSJ': '2024-10-24 19:00:00',\n",
       "  'JZXL_DISPLAY': '人文与科学素养系列讲座_其他',\n",
       "  'SFKSYY': 0,\n",
       "  'ZJRJS': '盛斌，南开大学“杰出教授”、博士生导师；现任南开大学党委常委、副校长，经济学院院长(兼)；教育部“长江学者”特聘教授、国家万人计划哲学社会科学领军人才、文化名家暨“四个一批”人才、国家百千万人才、国家有突出贡献中青年专家、国务院政府特殊津贴专家；中国世界经济学会副会长、中国美国经济学会副会长；主要研究领域为世界经济、国际贸易、国际政治经济学等。',\n",
       "  'ZBF': '苏州校区研究生会'},\n",
       " {'HDJSSJ': '2024-10-25 17:30:00',\n",
       "  'ZJR': '盛斌',\n",
       "  'JZMC': '【线下】【自信中国】构建更高水平的开放型经济新体制',\n",
       "  'JZSJ': '2024-10-25 15:30:00',\n",
       "  'JZXL': '10789c9265d04529b730dcf476095606',\n",
       "  'SZXQ': '4',\n",
       "  'YYJSSJ': '2024-10-25 00:00:00',\n",
       "  'JZHB': '3jnc2fcu24gt2rh639eq26ff2tuh2quu21',\n",
       "  'HDZRS': '280',\n",
       "  'SFYXQXYY': 1,\n",
       "  'JZDD': '苏州校区中大院报告厅',\n",
       "  'WID': 'c498986729f44db8b74af7b978e1784d',\n",
       "  'FBZT': '1',\n",
       "  'YYKSSJ': '2024-10-24 19:00:00',\n",
       "  'JZXL_DISPLAY': '人文与科学素养系列讲座_其他',\n",
       "  'SFKSYY': 0,\n",
       "  'ZJRJS': '盛斌，南开大学“杰出教授”、博士生导师;现任南开大学党委常委、副校长，经济学院院长(兼)；教育部“长江学者”特聘教授、国家万人计划哲学社会科学领军人才、文化名家暨“四个一批”人才、国家百千万人才、国家有突出贡献中青年专家、国务院政府特殊津贴专家；中国世界经济学会副会长、中国美国经济学会副会长;主要研究领域为世界经济、国际贸易、国际政治经济学等。\\n',\n",
       "  'ZBF': '苏州校区研究生会'},\n",
       " {'HDJSSJ': '2024-10-25 15:30:00',\n",
       "  'ZJR': '吕长虹',\n",
       "  'JZMC': '【线下】【前沿科技】数学归纳法与算法设计',\n",
       "  'JZSJ': '2024-10-25 14:00:00',\n",
       "  'JZXL': '10789c9265d04529b730dcf476095606',\n",
       "  'SZXQ': '2',\n",
       "  'YYJSSJ': '2024-10-25 00:00:00',\n",
       "  'JZHB': '3k503ip82hbi3t4t2va12oih3v1g3k8e401',\n",
       "  'HDZRS': '650',\n",
       "  'SFYXQXYY': 1,\n",
       "  'JZDD': '九龙湖校区润良报告厅',\n",
       "  'WID': '39f46934d2374a8890583d989600b55b',\n",
       "  'FBZT': '-1',\n",
       "  'YYKSSJ': '2024-10-24 19:00:00',\n",
       "  'JZXL_DISPLAY': '人文与科学素养系列讲座_其他',\n",
       "  'SFKSYY': 0,\n",
       "  'ZJRJS': '吕长虹教授，现任华东师范大学数学科学学院院长，数学与工程应用教育部重点实验室主任，国家高层次人才计划入选者。他主要从事图论与离散优化的理论和应用研究，2020年获得萧树铁应用数学奖和上海市科技进步特等奖，2021年获 CSIAM 首届数学成果落地应用奖，2022年获华为优秀技术成果奖。',\n",
       "  'ZBF': '数学学院研究生会'},\n",
       " {'HDJSSJ': '2024-10-24 20:30:00',\n",
       "  'ZJR': '于立深',\n",
       "  'JZMC': '【线上】【法律】后工业社会到达后的人生与法律问题',\n",
       "  'JZSJ': '2024-10-24 18:30:00',\n",
       "  'JZXL': 'e482db86363f4a6dabb5883472368e0b',\n",
       "  'SZXQ': '2',\n",
       "  'YYJSSJ': '2024-10-24 00:00:00',\n",
       "  'JZHB': '2sj42qes2cm720cq25gr3rhf2qkm22is411',\n",
       "  'HDZRS': '200',\n",
       "  'SFYXQXYY': 1,\n",
       "  'JZDD': '九龙湖校区润良报告厅',\n",
       "  'WID': 'c82b2c4d7d8743f9b16e16867a221daf',\n",
       "  'FBZT': '1',\n",
       "  'YYKSSJ': '2024-10-23 19:00:00',\n",
       "  'JZXL_DISPLAY': '人文与科学素养系列讲座_法律',\n",
       "  'SFKSYY': 0,\n",
       "  'ZJRJS': '于立深，法学博士，东南大学法学院教授、博士生导师，东南大学城市治理与区域法治发展研究中心主任，原东南大学法学院学术委员会主任。2014.7-2015.7，美国埃默里大学法学院(Law School of Emory University，亚特兰大市)访问学者。\\n兼任江苏省工程法学研究会会长、江苏省法学会首席法律顾问、中国行政法学研究会理事、中国法学会行政审判理论研究会理事、江苏省第二届法官、检察官遴选委员会非常任委员、最高人民法院第三巡回法庭诉讼服务志愿专家、南京市中级人民法院特邀咨询专家、江苏省地质矿产勘查局政策法务工作专家等。\\n已在《法学研究》《中国法学》《中外法学》《法学家》《法商研究》《中国行政管理》《人民日报》《读书》等刊物上发表论文100余篇。主持国家社会科学基金项目2项、司法部、教育部、中国法学会、江苏省等省部级项目5项。',\n",
       "  'ZBF': '交通学院研究生会'},\n",
       " {'HDJSSJ': '2024-10-24 20:30:00',\n",
       "  'ZJR': '于立深',\n",
       "  'JZMC': '【线下】【法律】后工业社会到达后的人生与法律问题',\n",
       "  'JZSJ': '2024-10-24 18:30:00',\n",
       "  'JZXL': 'e482db86363f4a6dabb5883472368e0b',\n",
       "  'SZXQ': '2',\n",
       "  'YYJSSJ': '2024-10-24 00:00:00',\n",
       "  'JZHB': '3ffk36tt28on2439202b3cou3hsj2d3q801',\n",
       "  'HDZRS': '600',\n",
       "  'SFYXQXYY': 1,\n",
       "  'JZDD': '九龙湖校区润良报告厅',\n",
       "  'WID': 'ee93aa48774d44f29bf51cdf2894c80b',\n",
       "  'FBZT': '1',\n",
       "  'YYKSSJ': '2024-10-23 19:00:00',\n",
       "  'JZXL_DISPLAY': '人文与科学素养系列讲座_法律',\n",
       "  'SFKSYY': 0,\n",
       "  'ZJRJS': '于立深，法学博士，东南大学法学院教授、博士生导师，东南大学城市治理与区域法治发展研究中心主任，原东南大学法学院学术委员会主任。2014.7-2015.7，美国埃默里大学法学院(Law School of Emory University，亚特兰大市)访问学者。\\n兼任江苏省工程法学研究会会长、江苏省法学会首席法律顾问、中国行政法学研究会理事、中国法学会行政审判理论研究会理事、江苏省第二届法官、检察官遴选委员会非常任委员、最高人民法院第三巡回法庭诉讼服务志愿专家、南京市中级人民法院特邀咨询专家、江苏省地质矿产勘查局政策法务工作专家等。\\n已在《法学研究》《中国法学》《中外法学》《法学家》《法商研究》《中国行政管理》《人民日报》《读书》等刊物上发表论文100余篇。主持国家社会科学基金项目2项、司法部、教育部、中国法学会、江苏省等省部级项目5项。',\n",
       "  'ZBF': '交通学院研究生会'}]"
      ]
     },
     "execution_count": 11,
     "metadata": {},
     "output_type": "execute_result"
    }
   ],
   "source": [
    "r.json()['datas']['hdlbList']"
   ]
  },
  {
   "cell_type": "markdown",
   "metadata": {},
   "source": [
    "# 根据活动id查询活动详情"
   ]
  },
  {
   "cell_type": "code",
   "execution_count": 17,
   "metadata": {},
   "outputs": [
    {
     "name": "stdout",
     "output_type": "stream",
     "text": [
      "{\"msg\":\"\",\"datas\":{\"hdxq\":{\"WID\":\"c82b2c4d7d8743f9b16e16867a221daf\",\"BY1\":\"8BQXZ98FT7QC\",\"ZBF\":\"交通学院研究生会\",\"CBF\":null,\"XBF\":null,\"SZXQ\":\"2\",\"JZMC\":\"【线上】【法律】后工业社会到达后的人生与法律问题\",\"JZXL\":\"e482db86363f4a6dabb5883472368e0b\",\"JZSJ\":\"2024-10-24 18:30:00\",\"HDJSSJ\":\"2024-10-24 20:30:00\",\"JZDD\":\"九龙湖校区润良报告厅\",\"ZJR\":\"于立深\",\"JZJB\":null,\"YYKSSJ\":\"2024-10-23 19:00:00\",\"YYJSSJ\":\"2024-10-24 00:00:00\",\"JZJS\":null,\"HDZRS\":\"200\",\"JZHB\":\"2sj42qes2cm720cq25gr3rhf2qkm22is411\",\"ZJRJS\":\"于立深，法学博士，东南大学法学院教授、博士生导师，东南大学城市治理与区域法治发展研究中心主任，原东南大学法学院学术委员会主任。2014.7-2015.7，美国埃默里大学法学院(Law School of Emory University，亚特兰大市)访问学者。\\n兼任江苏省工程法学研究会会长、江苏省法学会首席法律顾问、中国行政法学研究会理事、中国法学会行政审判理论研究会理事、江苏省第二届法官、检察官遴选委员会非常任委员、最高人民法院第三巡回法庭诉讼服务志愿专家、南京市中级人民法院特邀咨询专家、江苏省地质矿产勘查局政策法务工作专家等。\\n已在《法学研究》《中国法学》《中外法学》《法学家》《法商研究》《中国行政管理》《人民日报》《读书》等刊物上发表论文100余篇。主持国家社会科学基金项目2项、司法部、教育部、中国法学会、江苏省等省部级项目5项。\",\"SFNRWYTJ\":\"1\",\"FBZT\":\"1\",\"YY_WID\":null,\"SFDK\":null,\"SFWY\":null,\"YYRS\":0,\"JZXL_DISPLAY\":\"人文与科学素养系列讲座_法律\",\"SFKFYY\":0,\"SFBZYXS\":0,\"NOW\":\"2024-10-22 20:35:44\",\"SFYXQXYY\":\"1\"},\"xtdqsj\":\"2024-10-22 20:35:44\",\"wycspzList\":[{\"CJSJ\":\"Apr 27, 2020 10:33:22 AM\",\"WID\":\"d10f7ddfa24641d8ac2c5f150c6956c1\",\"WYCS\":2,\"CJR\":\"应用管理员\",\"JZYYTS\":60}]},\"debugException\":null,\"code\":0}\n"
     ]
    }
   ],
   "source": [
    "url='https://ehall.seu.edu.cn/gsapp/sys/yddjzxxtjappseu/modules/hdyy/getActivityDetail.do'\n",
    "data={\n",
    "    'wid':'c82b2c4d7d8743f9b16e16867a221daf'\n",
    "}\n",
    "r1=requests.post(url,headers=headers,data=data)\n",
    "print(r1.text)\n"
   ]
  },
  {
   "cell_type": "markdown",
   "metadata": {},
   "source": [
    "# 获取验证码"
   ]
  },
  {
   "cell_type": "code",
   "execution_count": null,
   "metadata": {},
   "outputs": [],
   "source": [
    "# https://ehall.seu.edu.cn/gsapp/sys/yddjzxxtjappseu/modules/hdyy/vcode.do"
   ]
  },
  {
   "cell_type": "code",
   "execution_count": 19,
   "metadata": {},
   "outputs": [
    {
     "name": "stdout",
     "output_type": "stream",
     "text": [
      "{\"msg\":\"\",\"datas\":\"data:image\\/jpeg;base64,\\/9j\\/4AAQSkZJRgABAgAAAQABAAD\\/2wBDAFA3PEY8MlBGQUZaVVBfeMiCeG5uePWvuZHI\\/\\/\\/\\/\\/\\/\\/\\/\\/\\/\\/\\/\\/\\/\\/\\/\\/\\/\\/\\/\\/\\/\\/\\/\\/\\/\\/\\/\\/\\/\\/\\/\\/\\/\\/\\/\\/\\/\\/\\/\\/\\/\\/\\/\\/\\/\\/\\/\\/\\/\\/\\/2wBDAVVaWnhpeOuCguv\\/\\/\\/\\/\\/\\/\\/\\/\\/\\/\\/\\/\\/\\/\\/\\/\\/\\/\\/\\/\\/\\/\\/\\/\\/\\/\\/\\/\\/\\/\\/\\/\\/\\/\\/\\/\\/\\/\\/\\/\\/\\/\\/\\/\\/\\/\\/\\/\\/\\/\\/\\/\\/\\/\\/\\/\\/\\/\\/\\/\\/\\/\\/\\/\\/\\/\\/\\/\\/\\/\\/\\/\\/wAARCAAeAEYDASIAAhEBAxEB\\/8QAHwAAAQUBAQEBAQEAAAAAAAAAAAECAwQFBgcICQoL\\/8QAtRAAAgEDAwIEAwUFBAQAAAF9AQIDAAQRBRIhMUEGE1FhByJxFDKBkaEII0KxwRVS0fAkM2JyggkKFhcYGRolJicoKSo0NTY3ODk6Q0RFRkdISUpTVFVWV1hZWmNkZWZnaGlqc3R1dnd4eXqDhIWGh4iJipKTlJWWl5iZmqKjpKWmp6ipqrKztLW2t7i5usLDxMXGx8jJytLT1NXW19jZ2uHi4+Tl5ufo6erx8vP09fb3+Pn6\\/8QAHwEAAwEBAQEBAQEBAQAAAAAAAAECAwQFBgcICQoL\\/8QAtREAAgECBAQDBAcFBAQAAQJ3AAECAxEEBSExBhJBUQdhcRMiMoEIFEKRobHBCSMzUvAVYnLRChYkNOEl8RcYGRomJygpKjU2Nzg5OkNERUZHSElKU1RVVldYWVpjZGVmZ2hpanN0dXZ3eHl6goOEhYaHiImKkpOUlZaXmJmaoqOkpaanqKmqsrO0tba3uLm6wsPExcbHyMnK0tPU1dbX2Nna4uPk5ebn6Onq8vP09fb3+Pn6\\/9oADAMBAAIRAxEAPwC15Sf3f1pgEJYgfw9eelTVSmU7rgL7H\\/GgC15Sf3f1qNjAr7Ty3oMn+VJbTbo0Uhs9M444qG2WIb2mI3dw1AFlUicZUZ\\/Oo2kgV9uCT3weB+ZFMtWLySlBhSOPb0pts0UKt5nDjqCKALKLE4yo6cH2psvlRAZXLHooPJqtC0uXkjT5SccdvoPaiSQZAiJaRupI5+n+eKALixxsoO3GfeiliVljAZtzdzRQA+oGgZ5G3PiMnOB1PFH2j\\/Z\\/Wj7R\\/s\\/rQBFDBLE5KgBT\\/CT\\/APWNOeGWc\\/vNqD25P5\\/\\/AKqf9o\\/2f1o+0f7P60AKFaFdsSgj8v8A9dNaGSYjzXwv91aX7R\\/s\\/rR9o\\/2f1oAlCBU2p8oxxjtVeO1Idy53bujDqP8A69P+0f7P60faP9n9aAJ6Kg+0f7P60UAf\\/9k=\",\"debugException\":null,\"code\":0}\n"
     ]
    }
   ],
   "source": [
    "url='https://ehall.seu.edu.cn/gsapp/sys/yddjzxxtjappseu/modules/hdyy/vcode.do'\n",
    "r2=requests.get(url,headers=headers)\n",
    "print(r2.text)"
   ]
  },
  {
   "cell_type": "code",
   "execution_count": 20,
   "metadata": {},
   "outputs": [
    {
     "data": {
      "image/png": "[encoded data removed]",
      "text/plain": [
       "<Figure size 640x480 with 1 Axes>"
      ]
     },
     "metadata": {},
     "output_type": "display_data"
    }
   ],
   "source": [
    "import base64\n",
    "import matplotlib.pyplot as plt\n",
    "import matplotlib.image as mpimg\n",
    "import numpy as np\n",
    "from io import BytesIO\n",
    "\n",
    "def display_image(data):\n",
    "    image_data = data[\"datas\"].split(\",\")[1]\n",
    "    img_data = base64.b64decode(image_data)\n",
    "\n",
    "    # 将图像数据转换为 numpy 数组并使用 matplotlib 显示\n",
    "    img_arr = np.asarray(bytearray(img_data), dtype=np.uint8)\n",
    "    img = mpimg.imread(BytesIO(img_arr), format='jpeg')\n",
    "\n",
    "    plt.imshow(img)\n",
    "    plt.axis('off')\n",
    "    plt.show()\n",
    "\n",
    "# 调用函数\n",
    "display_image(r2.json())\n"
   ]
  }
 ],
 "metadata": {
  "kernelspec": {
   "display_name": "python_3.10",
   "language": "python",
   "name": "python3"
  },
  "language_info": {
   "codemirror_mode": {
    "name": "ipython",
    "version": 3
   },
   "file_extension": ".py",
   "mimetype": "text/x-python",
   "name": "python",
   "nbconvert_exporter": "python",
   "pygments_lexer": "ipython3",
   "version": "3.10.14"
  }
 },
 "nbformat": 4,
 "nbformat_minor": 2
}
